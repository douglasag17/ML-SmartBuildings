{
 "cells": [
  {
   "cell_type": "markdown",
   "metadata": {},
   "source": [
    "# Aprendizaje No Supervisado"
   ]
  },
  {
   "cell_type": "code",
   "execution_count": 1,
   "metadata": {},
   "outputs": [],
   "source": [
    "import pandas as pd\n",
    "import numpy as np\n",
    "import matplotlib.pyplot as plt \n",
    "from sklearn.cluster import DBSCAN\n",
    "from sklearn import metrics\n",
    "from sklearn.neighbors import NearestNeighbors\n",
    "from random import randint"
   ]
  },
  {
   "cell_type": "code",
   "execution_count": 2,
   "metadata": {},
   "outputs": [],
   "source": [
    "data = pd.read_excel(\"../Datasets/HVAC.xlsx\", \"HISTORICO_DATOS\", index_col=0)"
   ]
  },
  {
   "cell_type": "code",
   "execution_count": 3,
   "metadata": {},
   "outputs": [],
   "source": [
    "data2 = data\n",
    "variables_a_eliminar = [\"C_O_P_ BOMBA CALOR FELIPE\", \"C_O_P_ BOMBA CALOR CARLOS\",\n",
    "                        \"C_O_P_ INSTALACIÓN GRUPO FRÍO 1\", \"C_O_P_ INSTALACÍON GRUPO FRÍO 2\",\n",
    "                        \"ORDEN\", \"VÁLVULA BY PASS SECUNDARIO FRÍO\",\n",
    "                        \"TEMPERATURA CONTROL DE BY PASS SECUNDARIO\", \"SECUNDARIO FRÍO 1\",\n",
    "                        \"SECUNDARIO FRÍO 2\", \"SECUNDARIO FRÍO 3\", \"MODO INVIERNO BC1\", \n",
    "                        \"MODO INVIERNO BC2\", \"PERIODO P6\", \"CONTROL CALOR\", \n",
    "                        \"CAPACIDAD BOMBA CALOR FELIPE %\", \"CAPACIDAD BOMBA CALOR CARLOS %\",\n",
    "                        \"CAPACIDAD GRUPO DE FRÍO 1\",\" CAPACIDAD GRUPO DE FRÍO 2\",\n",
    "                        \"IMPULSIÓN SECUNDARIO CALOR\", \"SECUNDARIO CALOR 1\", \n",
    "                        \"SECUNDARIO CALOR 2\", \"SECUNDARIO CALOR 3\",\n",
    "                        \"Fecha- hora de lectura\"]\n",
    "lista_variables = data2.columns.values.tolist()\n",
    "subLista = [x for x in lista_variables if x not in variables_a_eliminar]\n",
    "data2 = data2[subLista]"
   ]
  },
  {
   "cell_type": "code",
   "execution_count": 4,
   "metadata": {},
   "outputs": [
    {
     "name": "stderr",
     "output_type": "stream",
     "text": [
      "C:\\Users\\dag17\\Anaconda3\\lib\\site-packages\\ipykernel_launcher.py:2: SettingWithCopyWarning: \n",
      "A value is trying to be set on a copy of a slice from a DataFrame.\n",
      "Try using .loc[row_indexer,col_indexer] = value instead\n",
      "\n",
      "See the caveats in the documentation: http://pandas.pydata.org/pandas-docs/stable/indexing.html#indexing-view-versus-copy\n",
      "  \n",
      "C:\\Users\\dag17\\Anaconda3\\lib\\site-packages\\ipykernel_launcher.py:3: SettingWithCopyWarning: \n",
      "A value is trying to be set on a copy of a slice from a DataFrame.\n",
      "Try using .loc[row_indexer,col_indexer] = value instead\n",
      "\n",
      "See the caveats in the documentation: http://pandas.pydata.org/pandas-docs/stable/indexing.html#indexing-view-versus-copy\n",
      "  This is separate from the ipykernel package so we can avoid doing imports until\n",
      "C:\\Users\\dag17\\Anaconda3\\lib\\site-packages\\ipykernel_launcher.py:4: SettingWithCopyWarning: \n",
      "A value is trying to be set on a copy of a slice from a DataFrame.\n",
      "Try using .loc[row_indexer,col_indexer] = value instead\n",
      "\n",
      "See the caveats in the documentation: http://pandas.pydata.org/pandas-docs/stable/indexing.html#indexing-view-versus-copy\n",
      "  after removing the cwd from sys.path.\n",
      "C:\\Users\\dag17\\Anaconda3\\lib\\site-packages\\ipykernel_launcher.py:5: SettingWithCopyWarning: \n",
      "A value is trying to be set on a copy of a slice from a DataFrame.\n",
      "Try using .loc[row_indexer,col_indexer] = value instead\n",
      "\n",
      "See the caveats in the documentation: http://pandas.pydata.org/pandas-docs/stable/indexing.html#indexing-view-versus-copy\n",
      "  \"\"\"\n"
     ]
    }
   ],
   "source": [
    "data3 = data2\n",
    "data3[\"POTENCIA TERMICA BOMBA CALOR CARLOS\"] = data2[\"KILO CALORÍAS GENERADAS BOMBA CALOR CARLOS\"] * 0.001163\n",
    "data3[\"POTENCIA TERMICA BOMBA CALOR FELIPE\"] = data2[\"KILO CALORÍAS GENERADAS BOMBA CALOR FELIPE\"] * 0.001163\n",
    "data3[\"POTENCIA TERMICA GRUPO FRIO 1\"] = data2[\"KIGO FRIGORÍAS GENERADAS GRUPO DE FRÍO 1\"] * 0.001163\n",
    "data3[\"POTENCIA TERMICA GRUPO FRIO 2\"] = data2[\"KIGO FRIGORÍAS GENERADAS GRUPO DE FRÍO 2\"] * 0.001163"
   ]
  },
  {
   "cell_type": "markdown",
   "metadata": {},
   "source": [
    "### Optimal value for epsilon (eps)"
   ]
  },
  {
   "cell_type": "code",
   "execution_count": 5,
   "metadata": {},
   "outputs": [],
   "source": [
    "def epsilon(data):\n",
    "    # The optimal value for epsilon will be found at the point of maximum curvature\n",
    "    neigh = NearestNeighbors(n_neighbors = 2)\n",
    "    nbrs = neigh.fit(data)\n",
    "    distances, indices = nbrs.kneighbors(data)\n",
    "    distances = np.sort(distances, axis=0)\n",
    "    distances = distances[:,1]\n",
    "    plt.figure(figsize=(10, 8))\n",
    "    plt.plot(distances)"
   ]
  },
  {
   "cell_type": "code",
   "execution_count": 6,
   "metadata": {},
   "outputs": [],
   "source": [
    "def metricas(data, labels):\n",
    "    s = metrics.silhouette_score(data, labels, metric='euclidean')\n",
    "    print('silhouette_score: ', s)\n",
    "\n",
    "    # Number of clusters in labels, ignoring noise if present.\n",
    "    n_clusters_ = len(set(labels)) - (1 if -1 in labels else 0)\n",
    "    n_noise_ = list(labels).count(-1)\n",
    "    print('Estimated number of clusters: ', n_clusters_)\n",
    "    print('Estimated number of noise points: ', n_noise_)\n",
    "    return n_clusters_"
   ]
  },
  {
   "cell_type": "code",
   "execution_count": 34,
   "metadata": {},
   "outputs": [],
   "source": [
    "def grafica_clusters(data, labels, n_clusters_):\n",
    "    X = np.array(data)\n",
    "    colors = []\n",
    "    for i in range(n_clusters_):\n",
    "        colors.append('#%06X' % randint(0, 0xFFFFFF))\n",
    "        colors.append('#D3D3D3')\n",
    "    vectorizer = np.vectorize(lambda x: colors[x % len(colors)])\n",
    "    plt.scatter(X[:,0], X[:,1], c = vectorizer(labels))"
   ]
  },
  {
   "cell_type": "markdown",
   "metadata": {},
   "source": [
    "## C_O_P Carlos"
   ]
  },
  {
   "cell_type": "code",
   "execution_count": 8,
   "metadata": {},
   "outputs": [
    {
     "data": {
      "text/html": [
       "<div>\n",
       "<style scoped>\n",
       "    .dataframe tbody tr th:only-of-type {\n",
       "        vertical-align: middle;\n",
       "    }\n",
       "\n",
       "    .dataframe tbody tr th {\n",
       "        vertical-align: top;\n",
       "    }\n",
       "\n",
       "    .dataframe thead th {\n",
       "        text-align: right;\n",
       "    }\n",
       "</style>\n",
       "<table border=\"1\" class=\"dataframe\">\n",
       "  <thead>\n",
       "    <tr style=\"text-align: right;\">\n",
       "      <th></th>\n",
       "      <th>POTENCIA BOMBA CALOR CARLOS</th>\n",
       "      <th>POTENCIA TERMICA BOMBA CALOR CARLOS</th>\n",
       "      <th>TEMPERATURA EXTERIOR</th>\n",
       "      <th>TEMPERATURA SALIDA BOMBA CALOR CARLOS</th>\n",
       "    </tr>\n",
       "  </thead>\n",
       "  <tbody>\n",
       "    <tr>\n",
       "      <th>count</th>\n",
       "      <td>79285.000000</td>\n",
       "      <td>79285.000000</td>\n",
       "      <td>79285.000000</td>\n",
       "      <td>79285.000000</td>\n",
       "    </tr>\n",
       "    <tr>\n",
       "      <th>mean</th>\n",
       "      <td>33.616413</td>\n",
       "      <td>132.154739</td>\n",
       "      <td>15.083257</td>\n",
       "      <td>29.447289</td>\n",
       "    </tr>\n",
       "    <tr>\n",
       "      <th>std</th>\n",
       "      <td>43.907480</td>\n",
       "      <td>149.917857</td>\n",
       "      <td>11.345877</td>\n",
       "      <td>13.676912</td>\n",
       "    </tr>\n",
       "    <tr>\n",
       "      <th>min</th>\n",
       "      <td>0.000000</td>\n",
       "      <td>0.000000</td>\n",
       "      <td>-1.400000</td>\n",
       "      <td>0.000000</td>\n",
       "    </tr>\n",
       "    <tr>\n",
       "      <th>25%</th>\n",
       "      <td>0.480000</td>\n",
       "      <td>9.877769</td>\n",
       "      <td>6.968000</td>\n",
       "      <td>16.940001</td>\n",
       "    </tr>\n",
       "    <tr>\n",
       "      <th>50%</th>\n",
       "      <td>0.500000</td>\n",
       "      <td>46.868723</td>\n",
       "      <td>13.353139</td>\n",
       "      <td>34.740002</td>\n",
       "    </tr>\n",
       "    <tr>\n",
       "      <th>75%</th>\n",
       "      <td>67.599998</td>\n",
       "      <td>255.914298</td>\n",
       "      <td>23.717333</td>\n",
       "      <td>42.450001</td>\n",
       "    </tr>\n",
       "    <tr>\n",
       "      <th>max</th>\n",
       "      <td>164.206665</td>\n",
       "      <td>592.614391</td>\n",
       "      <td>43.799999</td>\n",
       "      <td>47.889999</td>\n",
       "    </tr>\n",
       "  </tbody>\n",
       "</table>\n",
       "</div>"
      ],
      "text/plain": [
       "       POTENCIA BOMBA CALOR CARLOS  POTENCIA TERMICA BOMBA CALOR CARLOS  \\\n",
       "count                 79285.000000                         79285.000000   \n",
       "mean                     33.616413                           132.154739   \n",
       "std                      43.907480                           149.917857   \n",
       "min                       0.000000                             0.000000   \n",
       "25%                       0.480000                             9.877769   \n",
       "50%                       0.500000                            46.868723   \n",
       "75%                      67.599998                           255.914298   \n",
       "max                     164.206665                           592.614391   \n",
       "\n",
       "       TEMPERATURA EXTERIOR  TEMPERATURA SALIDA BOMBA CALOR CARLOS  \n",
       "count          79285.000000                           79285.000000  \n",
       "mean              15.083257                              29.447289  \n",
       "std               11.345877                              13.676912  \n",
       "min               -1.400000                               0.000000  \n",
       "25%                6.968000                              16.940001  \n",
       "50%               13.353139                              34.740002  \n",
       "75%               23.717333                              42.450001  \n",
       "max               43.799999                              47.889999  "
      ]
     },
     "execution_count": 8,
     "metadata": {},
     "output_type": "execute_result"
    }
   ],
   "source": [
    "dataCarlos = data3[['POTENCIA BOMBA CALOR CARLOS', 'POTENCIA TERMICA BOMBA CALOR CARLOS', 'TEMPERATURA EXTERIOR',\n",
    "          'TEMPERATURA SALIDA BOMBA CALOR CARLOS']]\n",
    "dataCarlos.describe()"
   ]
  },
  {
   "cell_type": "code",
   "execution_count": 9,
   "metadata": {},
   "outputs": [
    {
     "data": {
      "image/png": "[encoded data removed]",
      "text/plain": [
       "<Figure size 720x576 with 1 Axes>"
      ]
     },
     "metadata": {
      "needs_background": "light"
     },
     "output_type": "display_data"
    }
   ],
   "source": [
    "epsilon(dataCarlos)"
   ]
  },
  {
   "cell_type": "code",
   "execution_count": 10,
   "metadata": {},
   "outputs": [],
   "source": [
    "clustering_carlos = DBSCAN(eps = 3, min_samples = 20)\n",
    "clustering_carlos.fit(dataCarlos)\n",
    "labels_carlos = clustering_carlos.labels_ # clusters"
   ]
  },
  {
   "cell_type": "markdown",
   "metadata": {},
   "source": [
    "### Silhouette Coefficient\n",
    "\n",
    "A higher Silhouette Coefficient score relates to a model with better defined clusters. The Silhouette Coefficient is defined for each sample and is composed of two scores:\n",
    "\n",
    "    a: The mean distance between a sample and all other points in the same class.\n",
    "    b: The mean distance between a sample and all other points in the next nearest cluster.\n",
    "    s = (b-a) / max(a,b)\n",
    "    \n",
    "The score is bounded between -1 for incorrect clustering and +1 for highly dense clustering. Scores around zero indicate overlapping clusters."
   ]
  },
  {
   "cell_type": "code",
   "execution_count": 11,
   "metadata": {},
   "outputs": [
    {
     "name": "stdout",
     "output_type": "stream",
     "text": [
      "silhouette_score:  -0.30975770125622953\n",
      "Estimated number of clusters:  50\n",
      "Estimated number of noise points:  9931\n"
     ]
    }
   ],
   "source": [
    "n_clusters_carlos = metricas(dataCarlos, labels_carlos)"
   ]
  },
  {
   "cell_type": "code",
   "execution_count": 35,
   "metadata": {},
   "outputs": [
    {
     "data": {
      "image/png": "[encoded data removed]",
      "text/plain": [
       "<Figure size 432x288 with 1 Axes>"
      ]
     },
     "metadata": {
      "needs_background": "light"
     },
     "output_type": "display_data"
    }
   ],
   "source": [
    "grafica_clusters(dataCarlos, labels_carlos, n_clusters_carlos)"
   ]
  },
  {
   "cell_type": "markdown",
   "metadata": {},
   "source": [
    "## C_O_P Felipe"
   ]
  },
  {
   "cell_type": "code",
   "execution_count": 13,
   "metadata": {},
   "outputs": [
    {
     "data": {
      "text/html": [
       "<div>\n",
       "<style scoped>\n",
       "    .dataframe tbody tr th:only-of-type {\n",
       "        vertical-align: middle;\n",
       "    }\n",
       "\n",
       "    .dataframe tbody tr th {\n",
       "        vertical-align: top;\n",
       "    }\n",
       "\n",
       "    .dataframe thead th {\n",
       "        text-align: right;\n",
       "    }\n",
       "</style>\n",
       "<table border=\"1\" class=\"dataframe\">\n",
       "  <thead>\n",
       "    <tr style=\"text-align: right;\">\n",
       "      <th></th>\n",
       "      <th>POTENCIA BOMBA CALOR FELIPE</th>\n",
       "      <th>POTENCIA TERMICA BOMBA CALOR FELIPE</th>\n",
       "      <th>TEMPERATURA EXTERIOR</th>\n",
       "      <th>TEMPERATURA SALIDA BOMBA CALOR FELIPE</th>\n",
       "    </tr>\n",
       "  </thead>\n",
       "  <tbody>\n",
       "    <tr>\n",
       "      <th>count</th>\n",
       "      <td>79285.000000</td>\n",
       "      <td>79285.000000</td>\n",
       "      <td>79285.000000</td>\n",
       "      <td>79285.000000</td>\n",
       "    </tr>\n",
       "    <tr>\n",
       "      <th>mean</th>\n",
       "      <td>32.952675</td>\n",
       "      <td>114.991659</td>\n",
       "      <td>15.083257</td>\n",
       "      <td>27.899720</td>\n",
       "    </tr>\n",
       "    <tr>\n",
       "      <th>std</th>\n",
       "      <td>45.304465</td>\n",
       "      <td>145.959139</td>\n",
       "      <td>11.345877</td>\n",
       "      <td>13.937344</td>\n",
       "    </tr>\n",
       "    <tr>\n",
       "      <th>min</th>\n",
       "      <td>0.000000</td>\n",
       "      <td>0.000000</td>\n",
       "      <td>-1.400000</td>\n",
       "      <td>0.000000</td>\n",
       "    </tr>\n",
       "    <tr>\n",
       "      <th>25%</th>\n",
       "      <td>0.640000</td>\n",
       "      <td>4.233283</td>\n",
       "      <td>6.968000</td>\n",
       "      <td>14.794000</td>\n",
       "    </tr>\n",
       "    <tr>\n",
       "      <th>50%</th>\n",
       "      <td>0.700000</td>\n",
       "      <td>24.492828</td>\n",
       "      <td>13.353139</td>\n",
       "      <td>28.799999</td>\n",
       "    </tr>\n",
       "    <tr>\n",
       "      <th>75%</th>\n",
       "      <td>66.543999</td>\n",
       "      <td>227.389796</td>\n",
       "      <td>23.717333</td>\n",
       "      <td>41.980000</td>\n",
       "    </tr>\n",
       "    <tr>\n",
       "      <th>max</th>\n",
       "      <td>157.706665</td>\n",
       "      <td>592.815954</td>\n",
       "      <td>43.799999</td>\n",
       "      <td>47.889999</td>\n",
       "    </tr>\n",
       "  </tbody>\n",
       "</table>\n",
       "</div>"
      ],
      "text/plain": [
       "       POTENCIA BOMBA CALOR FELIPE  POTENCIA TERMICA BOMBA CALOR FELIPE  \\\n",
       "count                 79285.000000                         79285.000000   \n",
       "mean                     32.952675                           114.991659   \n",
       "std                      45.304465                           145.959139   \n",
       "min                       0.000000                             0.000000   \n",
       "25%                       0.640000                             4.233283   \n",
       "50%                       0.700000                            24.492828   \n",
       "75%                      66.543999                           227.389796   \n",
       "max                     157.706665                           592.815954   \n",
       "\n",
       "       TEMPERATURA EXTERIOR  TEMPERATURA SALIDA BOMBA CALOR FELIPE  \n",
       "count          79285.000000                           79285.000000  \n",
       "mean              15.083257                              27.899720  \n",
       "std               11.345877                              13.937344  \n",
       "min               -1.400000                               0.000000  \n",
       "25%                6.968000                              14.794000  \n",
       "50%               13.353139                              28.799999  \n",
       "75%               23.717333                              41.980000  \n",
       "max               43.799999                              47.889999  "
      ]
     },
     "execution_count": 13,
     "metadata": {},
     "output_type": "execute_result"
    }
   ],
   "source": [
    "dataFelipe = data3[['POTENCIA BOMBA CALOR FELIPE', 'POTENCIA TERMICA BOMBA CALOR FELIPE', 'TEMPERATURA EXTERIOR',\n",
    "          'TEMPERATURA SALIDA BOMBA CALOR FELIPE']]\n",
    "dataFelipe.describe()"
   ]
  },
  {
   "cell_type": "markdown",
   "metadata": {},
   "source": [
    "## C_O_P Grupo Frío 1"
   ]
  },
  {
   "cell_type": "code",
   "execution_count": 14,
   "metadata": {},
   "outputs": [
    {
     "data": {
      "text/html": [
       "<div>\n",
       "<style scoped>\n",
       "    .dataframe tbody tr th:only-of-type {\n",
       "        vertical-align: middle;\n",
       "    }\n",
       "\n",
       "    .dataframe tbody tr th {\n",
       "        vertical-align: top;\n",
       "    }\n",
       "\n",
       "    .dataframe thead th {\n",
       "        text-align: right;\n",
       "    }\n",
       "</style>\n",
       "<table border=\"1\" class=\"dataframe\">\n",
       "  <thead>\n",
       "    <tr style=\"text-align: right;\">\n",
       "      <th></th>\n",
       "      <th>POTENCIA GRUPO FRÍO 1</th>\n",
       "      <th>POTENCIA TERMICA GRUPO FRIO 1</th>\n",
       "      <th>TEMPERATURA EXTERIOR</th>\n",
       "    </tr>\n",
       "  </thead>\n",
       "  <tbody>\n",
       "    <tr>\n",
       "      <th>count</th>\n",
       "      <td>79285.000000</td>\n",
       "      <td>79285.000000</td>\n",
       "      <td>79285.000000</td>\n",
       "    </tr>\n",
       "    <tr>\n",
       "      <th>mean</th>\n",
       "      <td>20.509645</td>\n",
       "      <td>95.445736</td>\n",
       "      <td>15.083257</td>\n",
       "    </tr>\n",
       "    <tr>\n",
       "      <th>std</th>\n",
       "      <td>26.984676</td>\n",
       "      <td>117.950837</td>\n",
       "      <td>11.345877</td>\n",
       "    </tr>\n",
       "    <tr>\n",
       "      <th>min</th>\n",
       "      <td>0.000000</td>\n",
       "      <td>0.000000</td>\n",
       "      <td>-1.400000</td>\n",
       "    </tr>\n",
       "    <tr>\n",
       "      <th>25%</th>\n",
       "      <td>0.100000</td>\n",
       "      <td>0.000000</td>\n",
       "      <td>6.968000</td>\n",
       "    </tr>\n",
       "    <tr>\n",
       "      <th>50%</th>\n",
       "      <td>0.100000</td>\n",
       "      <td>22.504057</td>\n",
       "      <td>13.353139</td>\n",
       "    </tr>\n",
       "    <tr>\n",
       "      <th>75%</th>\n",
       "      <td>38.900002</td>\n",
       "      <td>172.589200</td>\n",
       "      <td>23.717333</td>\n",
       "    </tr>\n",
       "    <tr>\n",
       "      <th>max</th>\n",
       "      <td>115.366669</td>\n",
       "      <td>2373.624850</td>\n",
       "      <td>43.799999</td>\n",
       "    </tr>\n",
       "  </tbody>\n",
       "</table>\n",
       "</div>"
      ],
      "text/plain": [
       "       POTENCIA GRUPO FRÍO 1  POTENCIA TERMICA GRUPO FRIO 1  \\\n",
       "count           79285.000000                   79285.000000   \n",
       "mean               20.509645                      95.445736   \n",
       "std                26.984676                     117.950837   \n",
       "min                 0.000000                       0.000000   \n",
       "25%                 0.100000                       0.000000   \n",
       "50%                 0.100000                      22.504057   \n",
       "75%                38.900002                     172.589200   \n",
       "max               115.366669                    2373.624850   \n",
       "\n",
       "       TEMPERATURA EXTERIOR  \n",
       "count          79285.000000  \n",
       "mean              15.083257  \n",
       "std               11.345877  \n",
       "min               -1.400000  \n",
       "25%                6.968000  \n",
       "50%               13.353139  \n",
       "75%               23.717333  \n",
       "max               43.799999  "
      ]
     },
     "execution_count": 14,
     "metadata": {},
     "output_type": "execute_result"
    }
   ],
   "source": [
    "dataFrio1 = data3[['POTENCIA GRUPO FRÍO 1', 'POTENCIA TERMICA GRUPO FRIO 1', 'TEMPERATURA EXTERIOR']]\n",
    "dataFrio1.describe()"
   ]
  },
  {
   "cell_type": "markdown",
   "metadata": {},
   "source": [
    "## C_O_P Grupo Frío 2"
   ]
  },
  {
   "cell_type": "code",
   "execution_count": 15,
   "metadata": {},
   "outputs": [
    {
     "data": {
      "text/html": [
       "<div>\n",
       "<style scoped>\n",
       "    .dataframe tbody tr th:only-of-type {\n",
       "        vertical-align: middle;\n",
       "    }\n",
       "\n",
       "    .dataframe tbody tr th {\n",
       "        vertical-align: top;\n",
       "    }\n",
       "\n",
       "    .dataframe thead th {\n",
       "        text-align: right;\n",
       "    }\n",
       "</style>\n",
       "<table border=\"1\" class=\"dataframe\">\n",
       "  <thead>\n",
       "    <tr style=\"text-align: right;\">\n",
       "      <th></th>\n",
       "      <th>POTENCIA GRUPO FRÍO 2</th>\n",
       "      <th>POTENCIA TERMICA GRUPO FRIO 2</th>\n",
       "      <th>TEMPERATURA EXTERIOR</th>\n",
       "    </tr>\n",
       "  </thead>\n",
       "  <tbody>\n",
       "    <tr>\n",
       "      <th>count</th>\n",
       "      <td>79285.000000</td>\n",
       "      <td>79285.000000</td>\n",
       "      <td>79285.000000</td>\n",
       "    </tr>\n",
       "    <tr>\n",
       "      <th>mean</th>\n",
       "      <td>27.022629</td>\n",
       "      <td>97.791279</td>\n",
       "      <td>15.083257</td>\n",
       "    </tr>\n",
       "    <tr>\n",
       "      <th>std</th>\n",
       "      <td>28.751257</td>\n",
       "      <td>117.645826</td>\n",
       "      <td>11.345877</td>\n",
       "    </tr>\n",
       "    <tr>\n",
       "      <th>min</th>\n",
       "      <td>0.000000</td>\n",
       "      <td>0.000000</td>\n",
       "      <td>-1.400000</td>\n",
       "    </tr>\n",
       "    <tr>\n",
       "      <th>25%</th>\n",
       "      <td>0.100000</td>\n",
       "      <td>0.000000</td>\n",
       "      <td>6.968000</td>\n",
       "    </tr>\n",
       "    <tr>\n",
       "      <th>50%</th>\n",
       "      <td>24.876667</td>\n",
       "      <td>28.784257</td>\n",
       "      <td>13.353139</td>\n",
       "    </tr>\n",
       "    <tr>\n",
       "      <th>75%</th>\n",
       "      <td>52.560001</td>\n",
       "      <td>165.611200</td>\n",
       "      <td>23.717333</td>\n",
       "    </tr>\n",
       "    <tr>\n",
       "      <th>max</th>\n",
       "      <td>93.536667</td>\n",
       "      <td>412.806886</td>\n",
       "      <td>43.799999</td>\n",
       "    </tr>\n",
       "  </tbody>\n",
       "</table>\n",
       "</div>"
      ],
      "text/plain": [
       "       POTENCIA GRUPO FRÍO 2  POTENCIA TERMICA GRUPO FRIO 2  \\\n",
       "count           79285.000000                   79285.000000   \n",
       "mean               27.022629                      97.791279   \n",
       "std                28.751257                     117.645826   \n",
       "min                 0.000000                       0.000000   \n",
       "25%                 0.100000                       0.000000   \n",
       "50%                24.876667                      28.784257   \n",
       "75%                52.560001                     165.611200   \n",
       "max                93.536667                     412.806886   \n",
       "\n",
       "       TEMPERATURA EXTERIOR  \n",
       "count          79285.000000  \n",
       "mean              15.083257  \n",
       "std               11.345877  \n",
       "min               -1.400000  \n",
       "25%                6.968000  \n",
       "50%               13.353139  \n",
       "75%               23.717333  \n",
       "max               43.799999  "
      ]
     },
     "execution_count": 15,
     "metadata": {},
     "output_type": "execute_result"
    }
   ],
   "source": [
    "dataFrio2 = data3[['POTENCIA GRUPO FRÍO 2', 'POTENCIA TERMICA GRUPO FRIO 2', 'TEMPERATURA EXTERIOR']]\n",
    "dataFrio2.describe()"
   ]
  },
  {
   "cell_type": "code",
   "execution_count": 16,
   "metadata": {},
   "outputs": [
    {
     "data": {
      "image/png": "[encoded data removed]",
      "text/plain": [
       "<Figure size 720x576 with 1 Axes>"
      ]
     },
     "metadata": {
      "needs_background": "light"
     },
     "output_type": "display_data"
    }
   ],
   "source": [
    "epsilon(dataFrio2)"
   ]
  },
  {
   "cell_type": "code",
   "execution_count": 17,
   "metadata": {},
   "outputs": [],
   "source": [
    "clustering_frio2 = DBSCAN(eps = 3, min_samples = 20)\n",
    "clustering_frio2.fit(dataFrio2)\n",
    "labels_frio2 = clustering_frio2.labels_ # clusters"
   ]
  },
  {
   "cell_type": "code",
   "execution_count": 18,
   "metadata": {},
   "outputs": [
    {
     "name": "stdout",
     "output_type": "stream",
     "text": [
      "silhouette_score:  0.014032175147574679\n",
      "Estimated number of clusters:  18\n",
      "Estimated number of noise points:  3010\n"
     ]
    }
   ],
   "source": [
    "n_clusters_frio2 = metricas(dataFrio2, labels_frio2)"
   ]
  },
  {
   "cell_type": "code",
   "execution_count": 31,
   "metadata": {},
   "outputs": [
    {
     "data": {
      "image/png": "[encoded data removed]",
      "text/plain": [
       "<Figure size 432x288 with 1 Axes>"
      ]
     },
     "metadata": {
      "needs_background": "light"
     },
     "output_type": "display_data"
    }
   ],
   "source": [
    "grafica_clusters(dataFrio2, labels_frio2, n_clusters_frio2)"
   ]
  }
 ],
 "metadata": {
  "kernelspec": {
   "display_name": "Python 3",
   "language": "python",
   "name": "python3"
  },
  "language_info": {
   "codemirror_mode": {
    "name": "ipython",
    "version": 3
   },
   "file_extension": ".py",
   "mimetype": "text/x-python",
   "name": "python",
   "nbconvert_exporter": "python",
   "pygments_lexer": "ipython3",
   "version": "3.7.3"
  }
 },
 "nbformat": 4,
 "nbformat_minor": 2
}
